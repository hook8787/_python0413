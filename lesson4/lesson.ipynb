{
 "cells": [
  {
   "cell_type": "code",
   "execution_count": 8,
   "id": "c89c16a4",
   "metadata": {},
   "outputs": [
    {
     "name": "stdout",
     "output_type": "stream",
     "text": [
      "對邊: 2.5\n",
      "斜邊: 5.0\n",
      "徑度: 0.5235987755982989\n",
      "角度: 30.0\n"
     ]
    }
   ],
   "source": [
    "import math\n",
    "\n",
    "side = float(input(\"請輸入對邊\"))\n",
    "anther_side = float(input(\"請輸入斜邊\"))\n",
    "radians =math.asin(side/anther_side)\n",
    "degree = math.degrees(radians)\n",
    "print(\"對邊:\",side)\n",
    "print(\"斜邊:\",anther_side)\n",
    "print(\"徑度:\",radians)\n",
    "print(\"角度:\",round(degree,ndigits=2))"
   ]
  },
  {
   "cell_type": "code",
   "execution_count": 9,
   "id": "391fa28e",
   "metadata": {},
   "outputs": [
    {
     "name": "stdout",
     "output_type": "stream",
     "text": [
      "25.0 17.0 29.0\n",
      "平均:23.67\n",
      "標準差:6.11\n"
     ]
    }
   ],
   "source": [
    "import statistics\n",
    "n1=float(input(\"請輸入第1個數\"))\n",
    "n2=float(input(\"請輸入第2個數\"))\n",
    "n3=float(input(\"請輸入第3個數\"))\n",
    "average = statistics.mean((n1,n2,n3))\n",
    "std = statistics.stdev((n1,n2,n3))\n",
    "print(n1,n2,n3)\n",
    "print(f\"平均:{average:.2f}\")\n",
    "print(f\"標準差:{std:.2f}\")"
   ]
  },
  {
   "cell_type": "code",
   "execution_count": 11,
   "id": "010159d6",
   "metadata": {},
   "outputs": [
    {
     "name": "stdout",
     "output_type": "stream",
     "text": [
      "這單項選擇題\n",
      "這是True的程式區塊\n"
     ]
    }
   ],
   "source": [
    "if True:\n",
    "    print(\"這單項選擇題\")\n",
    "    print(\"這是True的程式區塊\")\n",
    "else:\n",
    "    print(\"這是雙向選擇\")\n",
    "    print(\"這是Flase的程式區塊\")"
   ]
  },
  {
   "cell_type": "code",
   "execution_count": null,
   "id": "c4cf4ded",
   "metadata": {},
   "outputs": [],
   "source": []
  },
  {
   "cell_type": "code",
   "execution_count": 14,
   "id": "e637e938",
   "metadata": {},
   "outputs": [
    {
     "data": {
      "text/plain": [
       "False"
      ]
     },
     "execution_count": 14,
     "metadata": {},
     "output_type": "execute_result"
    }
   ],
   "source": [
    "5>3\n",
    "20==20\n",
    "20!=20"
   ]
  },
  {
   "cell_type": "code",
   "execution_count": 15,
   "id": "369a26ba",
   "metadata": {},
   "outputs": [
    {
     "name": "stdout",
     "output_type": "stream",
     "text": [
      "成年\n"
     ]
    }
   ],
   "source": [
    "age=int(input(\"請輸入age:\"))\n",
    "if age <18:\n",
    "    print(\"未成年\")\n",
    "else:\n",
    "    print(\"成年\")"
   ]
  },
  {
   "cell_type": "code",
   "execution_count": null,
   "id": "4ba0c3c6",
   "metadata": {},
   "outputs": [
    {
     "ename": "SyntaxError",
     "evalue": "invalid syntax (1901764033.py, line 1)",
     "output_type": "error",
     "traceback": [
      "  \u001b[36mCell\u001b[39m\u001b[36m \u001b[39m\u001b[32mIn[17]\u001b[39m\u001b[32m, line 1\u001b[39m\n\u001b[31m    \u001b[39m\u001b[31m...學生最高300分\u001b[39m\n       ^\n\u001b[31mSyntaxError\u001b[39m\u001b[31m:\u001b[39m invalid syntax\n"
     ]
    }
   ],
   "source": [
    "##學生最高300分\n",
    "##有些學生可以加分5%\n",
    "##如果加分超過300,就已300分為準"
   ]
  },
  {
   "cell_type": "code",
   "execution_count": 19,
   "id": "a038a5d1",
   "metadata": {},
   "outputs": [
    {
     "name": "stdout",
     "output_type": "stream",
     "text": [
      "學生的分數 300\n"
     ]
    }
   ],
   "source": [
    "score= int(input(\"請輸入學生分數(最多300分)\"))\n",
    "is_add=input(\"學生是否符合加分條件?(y,n)\")\n",
    "if (is_add ==\"y\"):\n",
    "    score*=1.05\n",
    "    if score >300:\n",
    "        score =300\n",
    "print (\"學生的分數\",score)"
   ]
  },
  {
   "cell_type": "code",
   "execution_count": null,
   "id": "10813e6d",
   "metadata": {},
   "outputs": [],
   "source": [
    "##處理 raise Exception**\n",
    "##try :except:處理錯誤"
   ]
  },
  {
   "cell_type": "code",
   "execution_count": null,
   "id": "3a8a61a6",
   "metadata": {},
   "outputs": [
    {
     "name": "stdout",
     "output_type": "stream",
     "text": [
      "發生錯誤\n",
      "發生錯誤\n"
     ]
    }
   ],
   "source": [
    "try:\n",
    "    25/0\n",
    "except:\n",
    "    print(\"發生錯誤\")\n",
    "print(\"程式結束\")"
   ]
  },
  {
   "cell_type": "code",
   "execution_count": null,
   "id": "707983d7",
   "metadata": {},
   "outputs": [],
   "source": [
    "divitionBy=0\n",
    "try:\n",
    "    print(25/divitionBy)\n",
    "except:\n",
    "    print(\"發生錯誤\")\n",
    "\n",
    "print(\"程式結束\")"
   ]
  },
  {
   "cell_type": "code",
   "execution_count": null,
   "id": "2e36ebee",
   "metadata": {},
   "outputs": [],
   "source": [
    "##多個except:"
   ]
  },
  {
   "cell_type": "code",
   "execution_count": 23,
   "id": "ac872c04",
   "metadata": {},
   "outputs": [
    {
     "name": "stdout",
     "output_type": "stream",
     "text": [
      "發生不知名錯誤\n",
      "程式結束\n"
     ]
    }
   ],
   "source": [
    "divitionBy=0\n",
    "try:\n",
    "    print(30/\"10\")\n",
    "    print(25/divitionBy)\n",
    "except ZeroDivisionError:\n",
    "    print(\"除數不可以為0\")\n",
    "except:\n",
    "    print(\"發生不知名錯誤\")\n",
    "\n",
    "print(\"程式結束\")"
   ]
  }
 ],
 "metadata": {
  "kernelspec": {
   "display_name": "Python 3",
   "language": "python",
   "name": "python3"
  },
  "language_info": {
   "codemirror_mode": {
    "name": "ipython",
    "version": 3
   },
   "file_extension": ".py",
   "mimetype": "text/x-python",
   "name": "python",
   "nbconvert_exporter": "python",
   "pygments_lexer": "ipython3",
   "version": "3.12.1"
  }
 },
 "nbformat": 4,
 "nbformat_minor": 5
}

{
 "cells": [
  {
   "cell_type": "code",
   "execution_count": null,
   "id": "8997a152",
   "metadata": {
    "vscode": {
     "languageId": "plaintext"
    }
   },
   "outputs": [],
   "source": [
    "##這是第3節上課內容"
   ]
  },
  {
   "cell_type": "code",
   "execution_count": null,
   "id": "9f11c7a7",
   "metadata": {
    "vscode": {
     "languageId": "plaintext"
    }
   },
   "outputs": [],
   "source": [
    "width= 345.8\n",
    "height= 100\n",
    "#type(width)\n",
    "#type(height)\n",
    "area= width * height\n",
    "#type(area)\n",
    "print(f\"矩形的寬:{width}高{height}面積是{round}\")"
   ]
  }
 ],
 "metadata": {
  "language_info": {
   "name": "python"
  }
 },
 "nbformat": 4,
 "nbformat_minor": 5
}

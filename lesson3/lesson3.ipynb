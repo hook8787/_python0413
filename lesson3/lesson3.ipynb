{
 "cells": [
  {
   "cell_type": "code",
   "execution_count": null,
   "id": "8997a152",
   "metadata": {
    "vscode": {
     "languageId": "plaintext"
    }
   },
   "outputs": [],
   "source": [
    "##這是第3節上課內容"
   ]
  },
  {
   "cell_type": "code",
   "execution_count": null,
   "id": "9f11c7a7",
   "metadata": {
    "vscode": {
     "languageId": "plaintext"
    }
   },
   "outputs": [],
   "source": [
    "width= 345.8\n",
    "height= 100\n",
    "#type(width)\n",
    "#type(height)\n",
    "area= width * height\n",
    "#type(area)\n",
    "print(\"f\"矩形的寬:{width}高{height}面積是{round}\")"
   ]
  },
  {
   "cell_type": "code",
   "execution_count": null,
   "id": "5ef481ec",
   "metadata": {
    "vscode": {
     "languageId": "plaintext"
    }
   },
   "outputs": [],
   "source": [
    "##重點是input()"
   ]
  },
  {
   "cell_type": "code",
   "execution_count": null,
   "id": "11314c14",
   "metadata": {
    "vscode": {
     "languageId": "plaintext"
    }
   },
   "outputs": [],
   "source": [
    "width_input=input(\"請輸入矩形的寬:\")\n",
    "type(width_input)\n",
    "width_value=float(width_input)\n",
    "type(width_value)"
   ]
  },
  {
   "cell_type": "code",
   "execution_count": null,
   "id": "337161d3",
   "metadata": {
    "vscode": {
     "languageId": "plaintext"
    }
   },
   "outputs": [],
   "source": [
    "width=float(input(\"請輸入矩形的寬:\"))\n",
    "height=float(input(\"請輸入矩形的高:\"))\n",
    "area= width*height\n",
    "print(\"f\"矩形的寬:{width}高{height}面積是{round(area,ndigits)}\")"
   ]
  }
 ],
 "metadata": {
  "language_info": {
   "name": "python"
  }
 },
 "nbformat": 4,
 "nbformat_minor": 5
}
